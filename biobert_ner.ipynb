{
 "cells": [
  {
   "cell_type": "code",
   "execution_count": 9,
   "id": "7969757f",
   "metadata": {},
   "outputs": [],
   "source": [
    "import os\n",
    "import re\n",
    "import csv\n",
    "import itertools\n",
    "\n",
    "import nltk\n",
    "import pandas as pd\n",
    "import numpy as np\n",
    "import seaborn as sns\n",
    "import matplotlib.pyplot as plt\n",
    "from tqdm import tqdm, trange\n",
    "from collections import defaultdict, OrderedDict\n",
    "\n",
    "import torch\n",
    "import torch.nn as nn\n",
    "from torch.utils.data import TensorDataset, DataLoader\n",
    "from torch.utils.data import RandomSampler, SequentialSampler\n",
    "from pytorch_pretrained_bert import BertModel, BertTokenizer, BertConfig\n",
    "from transformers import BertForTokenClassification, AdamW\n",
    "from transformers import get_linear_schedule_with_warmup\n",
    "\n",
    "import tensorflow as tf\n",
    "from tensorflow.keras.preprocessing.sequence import pad_sequences\n",
    "from sklearn.model_selection import train_test_split"
   ]
  },
  {
   "cell_type": "code",
   "execution_count": 11,
   "id": "4db94381",
   "metadata": {},
   "outputs": [],
   "source": [
    "import pytorch_pretrained_bert\n",
    "import wget"
   ]
  },
  {
   "cell_type": "code",
   "execution_count": 12,
   "id": "94fb4966",
   "metadata": {},
   "outputs": [
    {
     "name": "stderr",
     "output_type": "stream",
     "text": [
      "2022-10-04 22:10:11.185366: I tensorflow/core/platform/cpu_feature_guard.cc:193] This TensorFlow binary is optimized with oneAPI Deep Neural Network Library (oneDNN) to use the following CPU instructions in performance-critical operations:  AVX2 AVX512F AVX512_VNNI FMA\n",
      "To enable them in other operations, rebuild TensorFlow with the appropriate compiler flags.\n",
      "2022-10-04 22:10:11.247240: W tensorflow/stream_executor/platform/default/dso_loader.cc:64] Could not load dynamic library 'libcudart.so.11.0'; dlerror: libcudart.so.11.0: cannot open shared object file: No such file or directory; LD_LIBRARY_PATH: /usr/lib/cuda/include:/usr/lib/cudalib64:/usr/lib/cuda/lib64/:/usr/local/cuda/lib64/:\n",
      "2022-10-04 22:10:11.247430: W tensorflow/stream_executor/platform/default/dso_loader.cc:64] Could not load dynamic library 'libcublas.so.11'; dlerror: libcublas.so.11: cannot open shared object file: No such file or directory; LD_LIBRARY_PATH: /usr/lib/cuda/include:/usr/lib/cudalib64:/usr/lib/cuda/lib64/:/usr/local/cuda/lib64/:\n",
      "2022-10-04 22:10:11.247573: W tensorflow/stream_executor/platform/default/dso_loader.cc:64] Could not load dynamic library 'libcublasLt.so.11'; dlerror: libcublasLt.so.11: cannot open shared object file: No such file or directory; LD_LIBRARY_PATH: /usr/lib/cuda/include:/usr/lib/cudalib64:/usr/lib/cuda/lib64/:/usr/local/cuda/lib64/:\n",
      "2022-10-04 22:10:11.251679: W tensorflow/stream_executor/platform/default/dso_loader.cc:64] Could not load dynamic library 'libcusolver.so.11'; dlerror: libcusolver.so.11: cannot open shared object file: No such file or directory; LD_LIBRARY_PATH: /usr/lib/cuda/include:/usr/lib/cudalib64:/usr/lib/cuda/lib64/:/usr/local/cuda/lib64/:\n",
      "2022-10-04 22:10:11.251812: W tensorflow/stream_executor/platform/default/dso_loader.cc:64] Could not load dynamic library 'libcusparse.so.11'; dlerror: libcusparse.so.11: cannot open shared object file: No such file or directory; LD_LIBRARY_PATH: /usr/lib/cuda/include:/usr/lib/cudalib64:/usr/lib/cuda/lib64/:/usr/local/cuda/lib64/:\n",
      "2022-10-04 22:10:11.251997: W tensorflow/core/common_runtime/gpu/gpu_device.cc:1934] Cannot dlopen some GPU libraries. Please make sure the missing libraries mentioned above are installed properly if you would like to use GPU. Follow the guide at https://www.tensorflow.org/install/gpu for how to download and setup the required libraries for your platform.\n",
      "Skipping registering GPU devices...\n"
     ]
    },
    {
     "ename": "SystemError",
     "evalue": "GPU device not found",
     "output_type": "error",
     "traceback": [
      "\u001b[0;31m---------------------------------------------------------------------------\u001b[0m",
      "\u001b[0;31mSystemError\u001b[0m                               Traceback (most recent call last)",
      "Input \u001b[0;32mIn [12]\u001b[0m, in \u001b[0;36m<cell line: 4>\u001b[0;34m()\u001b[0m\n\u001b[1;32m      5\u001b[0m     \u001b[38;5;28mprint\u001b[39m(\u001b[38;5;124m'\u001b[39m\u001b[38;5;124mFound GPU at: \u001b[39m\u001b[38;5;132;01m{}\u001b[39;00m\u001b[38;5;124m'\u001b[39m\u001b[38;5;241m.\u001b[39mformat(device_name))\n\u001b[1;32m      6\u001b[0m \u001b[38;5;28;01melse\u001b[39;00m:\n\u001b[0;32m----> 7\u001b[0m     \u001b[38;5;28;01mraise\u001b[39;00m \u001b[38;5;167;01mSystemError\u001b[39;00m(\u001b[38;5;124m'\u001b[39m\u001b[38;5;124mGPU device not found\u001b[39m\u001b[38;5;124m'\u001b[39m)\n",
      "\u001b[0;31mSystemError\u001b[0m: GPU device not found"
     ]
    }
   ],
   "source": [
    "# Get GPU device name\n",
    "device_name = tf.test.gpu_device_name()\n",
    "\n",
    "if device_name == '/device:GPU:0':\n",
    "    print('Found GPU at: {}'.format(device_name))\n",
    "else:\n",
    "    raise SystemError('GPU device not found')"
   ]
  },
  {
   "cell_type": "code",
   "execution_count": 13,
   "id": "66fe6034",
   "metadata": {},
   "outputs": [
    {
     "name": "stdout",
     "output_type": "stream",
     "text": [
      "There are 1 GPU(s) available.\n",
      "We will use the GPU: Tesla V100-PCIE-32GB\n"
     ]
    }
   ],
   "source": [
    "# tell Pytorch to use the GPU if available\n",
    "device = torch.device(\"cuda\" if torch.cuda.is_available() else \"cpu\")\n",
    "\n",
    "print('There are %d GPU(s) available.' % torch.cuda.device_count())\n",
    "print('We will use the GPU:', torch.cuda.get_device_name(0))"
   ]
  },
  {
   "cell_type": "code",
   "execution_count": 14,
   "id": "24dfb000",
   "metadata": {
    "scrolled": true
   },
   "outputs": [
    {
     "name": "stdout",
     "output_type": "stream",
     "text": [
      "Traceback (most recent call last):\r\n",
      "  File \"/home/server_admin/anaconda3/envs/Chandan/bin/transformers-cli\", line 5, in <module>\r\n",
      "    from transformers.commands.transformers_cli import main\r\n",
      "  File \"/home/server_admin/anaconda3/envs/Chandan/lib/python3.9/site-packages/transformers/commands/transformers_cli.py\", line 24, in <module>\r\n",
      "    from .pt_to_tf import PTtoTFCommand\r\n",
      "  File \"/home/server_admin/anaconda3/envs/Chandan/lib/python3.9/site-packages/transformers/commands/pt_to_tf.py\", line 21, in <module>\r\n",
      "    from datasets import load_dataset\r\n",
      "ModuleNotFoundError: No module named 'datasets'\r\n"
     ]
    }
   ],
   "source": [
    "!transformers-cli convert --model_type bert --tf_checkpoint biobert_v1.1_pubmed/model.ckpt-1000000 --config biobert_v1.1_pubmed/bert_config.json --pytorch_dump_output biobert_v1.1_pubmed/pytorch_model.bin"
   ]
  },
  {
   "cell_type": "code",
   "execution_count": 15,
   "id": "d6625297",
   "metadata": {},
   "outputs": [
    {
     "name": "stdout",
     "output_type": "stream",
     "text": [
      "bert_config.json\t\t\tmodel.ckpt-1000000.meta\n",
      "model.ckpt-1000000.data-00000-of-00001\tpytorch_model.bin\n",
      "model.ckpt-1000000.index\t\tvocab.txt\n",
      "/bin/bash: move: command not found\n",
      "bert_config.json\t\t\tmodel.ckpt-1000000.meta\n",
      "model.ckpt-1000000.data-00000-of-00001\tpytorch_model.bin\n",
      "model.ckpt-1000000.index\t\tvocab.txt\n"
     ]
    }
   ],
   "source": [
    "!dir biobert_v1.1_pubmed/\n",
    "!move biobert_v1.1_pubmed/bert_config.json biobert_v1.1_pubmed/config.json\n",
    "!dir biobert_v1.1_pubmed/"
   ]
  },
  {
   "cell_type": "code",
   "execution_count": 16,
   "id": "842c2597",
   "metadata": {},
   "outputs": [
    {
     "name": "stdout",
     "output_type": "stream",
     "text": [
      "\\ biobert_ner.ipynb  bionlp_tags.csv  medical_transcripts_kaggle\r\n",
      "biobert_v1.1_pubmed  Data\r\n"
     ]
    }
   ],
   "source": [
    "!dir"
   ]
  },
  {
   "cell_type": "code",
   "execution_count": 17,
   "id": "f662867c",
   "metadata": {},
   "outputs": [],
   "source": [
    "MAX_LEN = 75\n",
    "BATCH_SIZE = 32\n",
    "tokenizer = BertTokenizer(vocab_file='biobert_v1.1_pubmed/vocab.txt', do_lower_case=False)"
   ]
  },
  {
   "cell_type": "code",
   "execution_count": 18,
   "id": "a63402e7",
   "metadata": {},
   "outputs": [
    {
     "name": "stdout",
     "output_type": "stream",
     "text": [
      "Entity Types: 74\n"
     ]
    }
   ],
   "source": [
    "data = pd.read_csv('./bionlp_tags.csv')\n",
    "tag_values = data['tags'].values\n",
    "vocab_len = len(tag_values)\n",
    "print('Entity Types:',vocab_len)"
   ]
  },
  {
   "cell_type": "code",
   "execution_count": 19,
   "id": "c1c4a7be",
   "metadata": {},
   "outputs": [
    {
     "name": "stdout",
     "output_type": "stream",
     "text": [
      "Tag Preview:\n",
      "                       tags\n",
      "0     I-Cellular_component\n",
      "1   E-Gene_or_gene_product\n",
      "2   I-Organism_subdivision\n",
      "3     I-Organism_substance\n",
      "4   B-Gene_or_gene_product\n",
      "..                     ...\n",
      "69                 I-Organ\n",
      "70                S-Cancer\n",
      "71            B-Amino_acid\n",
      "72     S-Anatomical_system\n",
      "73                     PAD\n",
      "\n",
      "[74 rows x 1 columns]\n"
     ]
    }
   ],
   "source": [
    "df_tags = pd.DataFrame({'tags':tag_values})\n",
    "df_tags.to_csv('bionlp_tags.csv',index=False)\n",
    "df = pd.read_csv('bionlp_tags.csv')\n",
    "print('Tag Preview:\\n', df)"
   ]
  },
  {
   "cell_type": "code",
   "execution_count": 20,
   "id": "7b298ccf",
   "metadata": {},
   "outputs": [],
   "source": [
    "class SentenceFetch(object):\n",
    "  \n",
    "    def __init__(self, data):\n",
    "        self.data = data\n",
    "        self.sentences = []\n",
    "        self.tags = []\n",
    "        self.sent = []\n",
    "        self.tag = []\n",
    "\n",
    "        # make tsv file readable\n",
    "        with open(self.data) as tsv_f:\n",
    "            reader = csv.reader(tsv_f, delimiter='\\t')\n",
    "            for row in reader:\n",
    "                if len(row) == 0:\n",
    "                    if len(self.sent) != len(self.tag):\n",
    "                        break\n",
    "                    self.sentences.append(self.sent)\n",
    "                    self.tags.append(self.tag)\n",
    "                    self.sent = []\n",
    "                    self.tag = []\n",
    "                else:\n",
    "                    self.sent.append(row[0])\n",
    "                    self.tag.append(row[1])   \n",
    "\n",
    "    def getSentences(self):\n",
    "        return self.sentences\n",
    "\n",
    "    def getTags(self):\n",
    "        return self.tags"
   ]
  },
  {
   "cell_type": "code",
   "execution_count": 21,
   "id": "9bb1cc88",
   "metadata": {},
   "outputs": [],
   "source": [
    "corpora = './Data/bionlp_corpora'\n",
    "sentences = []\n",
    "tags = []\n",
    "for subdir, dirs, files in os.walk(corpora):\n",
    "    for file in files:\n",
    "        if file == 'train.tsv':\n",
    "            path = os.path.join(subdir, file)\n",
    "            sent = SentenceFetch(path).getSentences()\n",
    "            tag = SentenceFetch(path).getTags()\n",
    "            sentences.extend(sent)\n",
    "            tags.extend(tag)\n",
    "            \n",
    "sentences = sentences[0:20000]\n",
    "tags = tags[0:20000]"
   ]
  },
  {
   "cell_type": "code",
   "execution_count": 22,
   "id": "de1cf7cd",
   "metadata": {},
   "outputs": [
    {
     "data": {
      "text/plain": [
      ]
     },
     "execution_count": 22,
     "metadata": {},
     "output_type": "execute_result"
    }
   ],
   "source": [
    "sentences"
   ]
  },
  {
   "cell_type": "code",
   "execution_count": 23,
   "id": "cd3f564f",
   "metadata": {},
   "outputs": [
    {
     "name": "stdout",
     "output_type": "stream",
     "text": [
      "Sentence Preview:\n",
      " ['Novel', 'Algorithms', 'Reveal', 'Streptococcal', 'Transcriptomes', 'and', 'Clues', 'about', 'Undefined', 'Genes']\n"
     ]
    }
   ],
   "source": [
    "print('Sentence Preview:\\n',sentences[0])"
   ]
  },
  {
   "cell_type": "code",
   "execution_count": 24,
   "id": "2a0f9f90",
   "metadata": {},
   "outputs": [],
   "source": [
    "def tok_with_labels(sent, text_labels):\n",
    "    '''tokenize and keep labels intact'''\n",
    "    tok_sent = []\n",
    "    labels = []\n",
    "    for word, label in zip(sent, text_labels):\n",
    "        tok_word = tokenizer.tokenize(word)\n",
    "        n_subwords = len(tok_word)\n",
    "\n",
    "        tok_sent.extend(tok_word)\n",
    "        labels.extend([label] * n_subwords)\n",
    "    return tok_sent, labels\n",
    "\n",
    "tok_texts_and_labels = [tok_with_labels(sent, labs) for sent, labs in zip(sentences, tags)]"
   ]
  },
  {
   "cell_type": "code",
   "execution_count": 25,
   "id": "b06d6a46",
   "metadata": {},
   "outputs": [],
   "source": [
    "tok_texts = [tok_label_pair[0] for tok_label_pair in tok_texts_and_labels]\n",
    "labels = [tok_label_pair[1] for tok_label_pair in tok_texts_and_labels]"
   ]
  },
  {
   "cell_type": "code",
   "execution_count": 26,
   "id": "cd97b0af",
   "metadata": {},
   "outputs": [
    {
     "data": {
      "text/plain": [
       "20000"
      ]
     },
     "execution_count": 26,
     "metadata": {},
     "output_type": "execute_result"
    }
   ],
   "source": [
    "len(tok_texts)"
   ]
  },
  {
   "cell_type": "code",
   "execution_count": 27,
   "id": "da00aa01",
   "metadata": {},
   "outputs": [],
   "source": [
    "input_ids = pad_sequences([tokenizer.convert_tokens_to_ids(txt) for txt in tok_texts],\n",
    "                          maxlen=MAX_LEN, dtype=\"long\", value=0.0,\n",
    "                          truncating=\"post\", padding=\"post\")"
   ]
  },
  {
   "cell_type": "code",
   "execution_count": 28,
   "id": "8815ffd4",
   "metadata": {},
   "outputs": [
    {
     "name": "stdout",
     "output_type": "stream",
     "text": [
      "WordPiece Tokenizer Preview:\n",
      " ['Novel', 'Al', '##gor', '##ith', '##ms', 'Rev', '##eal', 'St', '##re', '##pt', '##oc', '##oc', '##cal', 'Trans', '##cript', '##ome', '##s', 'and', 'C', '##lue', '##s', 'about', 'Un', '##de', '##fine', '##d', 'Gene', '##s']\n"
     ]
    }
   ],
   "source": [
    "print('WordPiece Tokenizer Preview:\\n', tok_texts[0])"
   ]
  },
  {
   "cell_type": "code",
   "execution_count": 29,
   "id": "b7798374",
   "metadata": {},
   "outputs": [],
   "source": [
    "tag_values = list(set(itertools.chain.from_iterable(tags)))\n",
    "tag_values.append(\"PAD\")\n",
    "\n",
    "tag2idx = {t: i for i,t in enumerate(tag_values)}"
   ]
  },
  {
   "cell_type": "code",
   "execution_count": 30,
   "id": "642c0538",
   "metadata": {},
   "outputs": [],
   "source": [
    "tags = pad_sequences([[tag2idx.get(l) for l in lab] for lab in labels],\n",
    "                     maxlen=MAX_LEN, value=tag2idx[\"PAD\"], padding=\"post\",\n",
    "                     dtype=\"long\", truncating=\"post\")"
   ]
  },
  {
   "cell_type": "code",
   "execution_count": 31,
   "id": "222f1eed",
   "metadata": {},
   "outputs": [],
   "source": [
    "# attention masks make explicit reference to which tokens are actual words vs padded words\n",
    "attention_masks = [[float(i != 0.0) for i in ii] for ii in input_ids]"
   ]
  },
  {
   "cell_type": "code",
   "execution_count": 32,
   "id": "5f360786",
   "metadata": {},
   "outputs": [],
   "source": [
    "tr_inputs, val_inputs, tr_tags, val_tags = train_test_split(input_ids, tags,\n",
    "                                                            random_state=2018, test_size=0.1)\n",
    "tr_masks, val_masks, _, _ = train_test_split(attention_masks, input_ids,\n",
    "                                             random_state=2018, test_size=0.1)\n",
    "\n",
    "tr_inputs = torch.tensor(tr_inputs)\n",
    "val_inputs = torch.tensor(val_inputs)\n",
    "tr_tags = torch.tensor(tr_tags)\n",
    "val_tags = torch.tensor(val_tags)\n",
    "tr_masks = torch.tensor(tr_masks)\n",
    "val_masks = torch.tensor(val_masks)"
   ]
  },
  {
   "cell_type": "code",
   "execution_count": 33,
   "id": "d9f71af1",
   "metadata": {},
   "outputs": [],
   "source": [
    "train_data = TensorDataset(tr_inputs, tr_masks, tr_tags)\n",
    "train_sampler = RandomSampler(train_data)\n",
    "train_dataloader = DataLoader(train_data, sampler=train_sampler, batch_size=BATCH_SIZE)\n",
    "\n",
    "valid_data = TensorDataset(val_inputs, val_masks, val_tags)\n",
    "valid_sampler = SequentialSampler(valid_data)\n",
    "valid_dataloader = DataLoader(valid_data, sampler=valid_sampler, batch_size=BATCH_SIZE)\n"
   ]
  },
  {
   "cell_type": "code",
   "execution_count": 35,
   "id": "6cbeaff3",
   "metadata": {},
   "outputs": [],
   "source": [
    "config = BertConfig.from_json_file('./biobert_v1.1_pubmed/bert_config.json')\n",
    "tmp_d = torch.load('biobert_v1.1_pubmed/pytorch_model.bin', map_location=device)\n",
    "state_dict = OrderedDict()\n",
    "\n",
    "for i in list(tmp_d.keys())[:199]:\n",
    "    x = i\n",
    "    if i.find('bert') > -1:\n",
    "        x = '.'.join(i.split('.')[1:])\n",
    "    state_dict[x] = tmp_d[i]"
   ]
  },
  {
   "cell_type": "code",
   "execution_count": 36,
   "id": "e2a357ae",
   "metadata": {},
   "outputs": [],
   "source": [
    "class BioBertNER(nn.Module):\n",
    "\n",
    "    def __init__(self, vocab_len, config, state_dict):\n",
    "        super().__init__()\n",
    "        self.bert = BertModel(config)\n",
    "        self.bert.load_state_dict(state_dict, strict=False)\n",
    "        self.dropout = nn.Dropout(p=0.3)\n",
    "        self.output = nn.Linear(self.bert.config.hidden_size, vocab_len)\n",
    "        self.softmax = nn.Softmax(dim=1)\n",
    "\n",
    "    def forward(self, input_ids, attention_mask):\n",
    "        encoded_layer, _ = self.bert(input_ids=input_ids, attention_mask=attention_mask)\n",
    "        encl = encoded_layer[-1]\n",
    "        out = self.dropout(encl)\n",
    "        out = self.output(out)\n",
    "        return out, out.argmax(-1)"
   ]
  },
  {
   "cell_type": "code",
   "execution_count": 37,
   "id": "d856f1d2",
   "metadata": {},
   "outputs": [
    {
     "data": {
      "text/plain": [
       "BioBertNER(\n",
       "  (bert): BertModel(\n",
       "    (embeddings): BertEmbeddings(\n",
       "      (word_embeddings): Embedding(28996, 768, padding_idx=0)\n",
       "      (position_embeddings): Embedding(512, 768)\n",
       "      (token_type_embeddings): Embedding(2, 768)\n",
       "      (LayerNorm): BertLayerNorm()\n",
       "      (dropout): Dropout(p=0.1, inplace=False)\n",
       "    )\n",
       "    (encoder): BertEncoder(\n",
       "      (layer): ModuleList(\n",
       "        (0): BertLayer(\n",
       "          (attention): BertAttention(\n",
       "            (self): BertSelfAttention(\n",
       "              (query): Linear(in_features=768, out_features=768, bias=True)\n",
       "              (key): Linear(in_features=768, out_features=768, bias=True)\n",
       "              (value): Linear(in_features=768, out_features=768, bias=True)\n",
       "              (dropout): Dropout(p=0.1, inplace=False)\n",
       "            )\n",
       "            (output): BertSelfOutput(\n",
       "              (dense): Linear(in_features=768, out_features=768, bias=True)\n",
       "              (LayerNorm): BertLayerNorm()\n",
       "              (dropout): Dropout(p=0.1, inplace=False)\n",
       "            )\n",
       "          )\n",
       "          (intermediate): BertIntermediate(\n",
       "            (dense): Linear(in_features=768, out_features=3072, bias=True)\n",
       "          )\n",
       "          (output): BertOutput(\n",
       "            (dense): Linear(in_features=3072, out_features=768, bias=True)\n",
       "            (LayerNorm): BertLayerNorm()\n",
       "            (dropout): Dropout(p=0.1, inplace=False)\n",
       "          )\n",
       "        )\n",
       "        (1): BertLayer(\n",
       "          (attention): BertAttention(\n",
       "            (self): BertSelfAttention(\n",
       "              (query): Linear(in_features=768, out_features=768, bias=True)\n",
       "              (key): Linear(in_features=768, out_features=768, bias=True)\n",
       "              (value): Linear(in_features=768, out_features=768, bias=True)\n",
       "              (dropout): Dropout(p=0.1, inplace=False)\n",
       "            )\n",
       "            (output): BertSelfOutput(\n",
       "              (dense): Linear(in_features=768, out_features=768, bias=True)\n",
       "              (LayerNorm): BertLayerNorm()\n",
       "              (dropout): Dropout(p=0.1, inplace=False)\n",
       "            )\n",
       "          )\n",
       "          (intermediate): BertIntermediate(\n",
       "            (dense): Linear(in_features=768, out_features=3072, bias=True)\n",
       "          )\n",
       "          (output): BertOutput(\n",
       "            (dense): Linear(in_features=3072, out_features=768, bias=True)\n",
       "            (LayerNorm): BertLayerNorm()\n",
       "            (dropout): Dropout(p=0.1, inplace=False)\n",
       "          )\n",
       "        )\n",
       "        (2): BertLayer(\n",
       "          (attention): BertAttention(\n",
       "            (self): BertSelfAttention(\n",
       "              (query): Linear(in_features=768, out_features=768, bias=True)\n",
       "              (key): Linear(in_features=768, out_features=768, bias=True)\n",
       "              (value): Linear(in_features=768, out_features=768, bias=True)\n",
       "              (dropout): Dropout(p=0.1, inplace=False)\n",
       "            )\n",
       "            (output): BertSelfOutput(\n",
       "              (dense): Linear(in_features=768, out_features=768, bias=True)\n",
       "              (LayerNorm): BertLayerNorm()\n",
       "              (dropout): Dropout(p=0.1, inplace=False)\n",
       "            )\n",
       "          )\n",
       "          (intermediate): BertIntermediate(\n",
       "            (dense): Linear(in_features=768, out_features=3072, bias=True)\n",
       "          )\n",
       "          (output): BertOutput(\n",
       "            (dense): Linear(in_features=3072, out_features=768, bias=True)\n",
       "            (LayerNorm): BertLayerNorm()\n",
       "            (dropout): Dropout(p=0.1, inplace=False)\n",
       "          )\n",
       "        )\n",
       "        (3): BertLayer(\n",
       "          (attention): BertAttention(\n",
       "            (self): BertSelfAttention(\n",
       "              (query): Linear(in_features=768, out_features=768, bias=True)\n",
       "              (key): Linear(in_features=768, out_features=768, bias=True)\n",
       "              (value): Linear(in_features=768, out_features=768, bias=True)\n",
       "              (dropout): Dropout(p=0.1, inplace=False)\n",
       "            )\n",
       "            (output): BertSelfOutput(\n",
       "              (dense): Linear(in_features=768, out_features=768, bias=True)\n",
       "              (LayerNorm): BertLayerNorm()\n",
       "              (dropout): Dropout(p=0.1, inplace=False)\n",
       "            )\n",
       "          )\n",
       "          (intermediate): BertIntermediate(\n",
       "            (dense): Linear(in_features=768, out_features=3072, bias=True)\n",
       "          )\n",
       "          (output): BertOutput(\n",
       "            (dense): Linear(in_features=3072, out_features=768, bias=True)\n",
       "            (LayerNorm): BertLayerNorm()\n",
       "            (dropout): Dropout(p=0.1, inplace=False)\n",
       "          )\n",
       "        )\n",
       "        (4): BertLayer(\n",
       "          (attention): BertAttention(\n",
       "            (self): BertSelfAttention(\n",
       "              (query): Linear(in_features=768, out_features=768, bias=True)\n",
       "              (key): Linear(in_features=768, out_features=768, bias=True)\n",
       "              (value): Linear(in_features=768, out_features=768, bias=True)\n",
       "              (dropout): Dropout(p=0.1, inplace=False)\n",
       "            )\n",
       "            (output): BertSelfOutput(\n",
       "              (dense): Linear(in_features=768, out_features=768, bias=True)\n",
       "              (LayerNorm): BertLayerNorm()\n",
       "              (dropout): Dropout(p=0.1, inplace=False)\n",
       "            )\n",
       "          )\n",
       "          (intermediate): BertIntermediate(\n",
       "            (dense): Linear(in_features=768, out_features=3072, bias=True)\n",
       "          )\n",
       "          (output): BertOutput(\n",
       "            (dense): Linear(in_features=3072, out_features=768, bias=True)\n",
       "            (LayerNorm): BertLayerNorm()\n",
       "            (dropout): Dropout(p=0.1, inplace=False)\n",
       "          )\n",
       "        )\n",
       "        (5): BertLayer(\n",
       "          (attention): BertAttention(\n",
       "            (self): BertSelfAttention(\n",
       "              (query): Linear(in_features=768, out_features=768, bias=True)\n",
       "              (key): Linear(in_features=768, out_features=768, bias=True)\n",
       "              (value): Linear(in_features=768, out_features=768, bias=True)\n",
       "              (dropout): Dropout(p=0.1, inplace=False)\n",
       "            )\n",
       "            (output): BertSelfOutput(\n",
       "              (dense): Linear(in_features=768, out_features=768, bias=True)\n",
       "              (LayerNorm): BertLayerNorm()\n",
       "              (dropout): Dropout(p=0.1, inplace=False)\n",
       "            )\n",
       "          )\n",
       "          (intermediate): BertIntermediate(\n",
       "            (dense): Linear(in_features=768, out_features=3072, bias=True)\n",
       "          )\n",
       "          (output): BertOutput(\n",
       "            (dense): Linear(in_features=3072, out_features=768, bias=True)\n",
       "            (LayerNorm): BertLayerNorm()\n",
       "            (dropout): Dropout(p=0.1, inplace=False)\n",
       "          )\n",
       "        )\n",
       "        (6): BertLayer(\n",
       "          (attention): BertAttention(\n",
       "            (self): BertSelfAttention(\n",
       "              (query): Linear(in_features=768, out_features=768, bias=True)\n",
       "              (key): Linear(in_features=768, out_features=768, bias=True)\n",
       "              (value): Linear(in_features=768, out_features=768, bias=True)\n",
       "              (dropout): Dropout(p=0.1, inplace=False)\n",
       "            )\n",
       "            (output): BertSelfOutput(\n",
       "              (dense): Linear(in_features=768, out_features=768, bias=True)\n",
       "              (LayerNorm): BertLayerNorm()\n",
       "              (dropout): Dropout(p=0.1, inplace=False)\n",
       "            )\n",
       "          )\n",
       "          (intermediate): BertIntermediate(\n",
       "            (dense): Linear(in_features=768, out_features=3072, bias=True)\n",
       "          )\n",
       "          (output): BertOutput(\n",
       "            (dense): Linear(in_features=3072, out_features=768, bias=True)\n",
       "            (LayerNorm): BertLayerNorm()\n",
       "            (dropout): Dropout(p=0.1, inplace=False)\n",
       "          )\n",
       "        )\n",
       "        (7): BertLayer(\n",
       "          (attention): BertAttention(\n",
       "            (self): BertSelfAttention(\n",
       "              (query): Linear(in_features=768, out_features=768, bias=True)\n",
       "              (key): Linear(in_features=768, out_features=768, bias=True)\n",
       "              (value): Linear(in_features=768, out_features=768, bias=True)\n",
       "              (dropout): Dropout(p=0.1, inplace=False)\n",
       "            )\n",
       "            (output): BertSelfOutput(\n",
       "              (dense): Linear(in_features=768, out_features=768, bias=True)\n",
       "              (LayerNorm): BertLayerNorm()\n",
       "              (dropout): Dropout(p=0.1, inplace=False)\n",
       "            )\n",
       "          )\n",
       "          (intermediate): BertIntermediate(\n",
       "            (dense): Linear(in_features=768, out_features=3072, bias=True)\n",
       "          )\n",
       "          (output): BertOutput(\n",
       "            (dense): Linear(in_features=3072, out_features=768, bias=True)\n",
       "            (LayerNorm): BertLayerNorm()\n",
       "            (dropout): Dropout(p=0.1, inplace=False)\n",
       "          )\n",
       "        )\n",
       "        (8): BertLayer(\n",
       "          (attention): BertAttention(\n",
       "            (self): BertSelfAttention(\n",
       "              (query): Linear(in_features=768, out_features=768, bias=True)\n",
       "              (key): Linear(in_features=768, out_features=768, bias=True)\n",
       "              (value): Linear(in_features=768, out_features=768, bias=True)\n",
       "              (dropout): Dropout(p=0.1, inplace=False)\n",
       "            )\n",
       "            (output): BertSelfOutput(\n",
       "              (dense): Linear(in_features=768, out_features=768, bias=True)\n",
       "              (LayerNorm): BertLayerNorm()\n",
       "              (dropout): Dropout(p=0.1, inplace=False)\n",
       "            )\n",
       "          )\n",
       "          (intermediate): BertIntermediate(\n",
       "            (dense): Linear(in_features=768, out_features=3072, bias=True)\n",
       "          )\n",
       "          (output): BertOutput(\n",
       "            (dense): Linear(in_features=3072, out_features=768, bias=True)\n",
       "            (LayerNorm): BertLayerNorm()\n",
       "            (dropout): Dropout(p=0.1, inplace=False)\n",
       "          )\n",
       "        )\n",
       "        (9): BertLayer(\n",
       "          (attention): BertAttention(\n",
       "            (self): BertSelfAttention(\n",
       "              (query): Linear(in_features=768, out_features=768, bias=True)\n",
       "              (key): Linear(in_features=768, out_features=768, bias=True)\n",
       "              (value): Linear(in_features=768, out_features=768, bias=True)\n",
       "              (dropout): Dropout(p=0.1, inplace=False)\n",
       "            )\n",
       "            (output): BertSelfOutput(\n",
       "              (dense): Linear(in_features=768, out_features=768, bias=True)\n",
       "              (LayerNorm): BertLayerNorm()\n",
       "              (dropout): Dropout(p=0.1, inplace=False)\n",
       "            )\n",
       "          )\n",
       "          (intermediate): BertIntermediate(\n",
       "            (dense): Linear(in_features=768, out_features=3072, bias=True)\n",
       "          )\n",
       "          (output): BertOutput(\n",
       "            (dense): Linear(in_features=3072, out_features=768, bias=True)\n",
       "            (LayerNorm): BertLayerNorm()\n",
       "            (dropout): Dropout(p=0.1, inplace=False)\n",
       "          )\n",
       "        )\n",
       "        (10): BertLayer(\n",
       "          (attention): BertAttention(\n",
       "            (self): BertSelfAttention(\n",
       "              (query): Linear(in_features=768, out_features=768, bias=True)\n",
       "              (key): Linear(in_features=768, out_features=768, bias=True)\n",
       "              (value): Linear(in_features=768, out_features=768, bias=True)\n",
       "              (dropout): Dropout(p=0.1, inplace=False)\n",
       "            )\n",
       "            (output): BertSelfOutput(\n",
       "              (dense): Linear(in_features=768, out_features=768, bias=True)\n",
       "              (LayerNorm): BertLayerNorm()\n",
       "              (dropout): Dropout(p=0.1, inplace=False)\n",
       "            )\n",
       "          )\n",
       "          (intermediate): BertIntermediate(\n",
       "            (dense): Linear(in_features=768, out_features=3072, bias=True)\n",
       "          )\n",
       "          (output): BertOutput(\n",
       "            (dense): Linear(in_features=3072, out_features=768, bias=True)\n",
       "            (LayerNorm): BertLayerNorm()\n",
       "            (dropout): Dropout(p=0.1, inplace=False)\n",
       "          )\n",
       "        )\n",
       "        (11): BertLayer(\n",
       "          (attention): BertAttention(\n",
       "            (self): BertSelfAttention(\n",
       "              (query): Linear(in_features=768, out_features=768, bias=True)\n",
       "              (key): Linear(in_features=768, out_features=768, bias=True)\n",
       "              (value): Linear(in_features=768, out_features=768, bias=True)\n",
       "              (dropout): Dropout(p=0.1, inplace=False)\n",
       "            )\n",
       "            (output): BertSelfOutput(\n",
       "              (dense): Linear(in_features=768, out_features=768, bias=True)\n",
       "              (LayerNorm): BertLayerNorm()\n",
       "              (dropout): Dropout(p=0.1, inplace=False)\n",
       "            )\n",
       "          )\n",
       "          (intermediate): BertIntermediate(\n",
       "            (dense): Linear(in_features=768, out_features=3072, bias=True)\n",
       "          )\n",
       "          (output): BertOutput(\n",
       "            (dense): Linear(in_features=3072, out_features=768, bias=True)\n",
       "            (LayerNorm): BertLayerNorm()\n",
       "            (dropout): Dropout(p=0.1, inplace=False)\n",
       "          )\n",
       "        )\n",
       "      )\n",
       "    )\n",
       "    (pooler): BertPooler(\n",
       "      (dense): Linear(in_features=768, out_features=768, bias=True)\n",
       "      (activation): Tanh()\n",
       "    )\n",
       "  )\n",
       "  (dropout): Dropout(p=0.3, inplace=False)\n",
       "  (output): Linear(in_features=768, out_features=74, bias=True)\n",
       "  (softmax): Softmax(dim=1)\n",
       ")"
      ]
     },
     "execution_count": 37,
     "metadata": {},
     "output_type": "execute_result"
    }
   ],
   "source": [
    "model = BioBertNER(vocab_len,config,state_dict)\n",
    "model.to(device)"
   ]
  },
  {
   "cell_type": "code",
   "execution_count": 41,
   "id": "a2b8e126",
   "metadata": {},
   "outputs": [],
   "source": [
    "param_optimizer = list(model.named_parameters())\n",
    "no_decay = ['bias', 'gamma', 'beta']\n",
    "optimizer_grouped_parameters = [\n",
    "        {'params': [p for n, p in param_optimizer if not any(nd in n for nd in no_decay)],\n",
    "         'weight_decay_rate': 0.01},\n",
    "        {'params': [p for n, p in param_optimizer if any(nd in n for nd in no_decay)],\n",
    "         'weight_decay_rate': 0.0}\n",
    "    ]\n",
    "\n",
    "optimizer = AdamW(\n",
    "    optimizer_grouped_parameters,\n",
    "    lr=3e-5,\n",
    "    eps=1e-8\n",
    ")\n",
    "epochs = 10\n",
    "max_grad_norm = 1.0\n",
    "\n",
    "total_steps = len(train_dataloader) * epochs\n",
    "\n",
    "scheduler = get_linear_schedule_with_warmup(\n",
    "    optimizer,\n",
    "    num_warmup_steps=0,\n",
    "    num_training_steps=total_steps\n",
    ")\n",
    "loss_fn = nn.CrossEntropyLoss().to(device)"
   ]
  },
  {
   "cell_type": "code",
   "execution_count": 42,
   "id": "61b086a8",
   "metadata": {},
   "outputs": [],
   "source": [
    "def train_epoch(model,data_loader,loss_fn,optimizer,device,scheduler):\n",
    "    model = model.train()\n",
    "    losses = []\n",
    "    correct_predictions = 0\n",
    "    for step,batch in enumerate(data_loader):\n",
    "        batch = tuple(t.to(device) for t in batch)\n",
    "        b_input_ids, b_input_mask, b_labels = batch\n",
    "        outputs,y_hat = model(b_input_ids,b_input_mask)\n",
    "        \n",
    "        _,preds = torch.max(outputs,dim=2)\n",
    "        outputs = outputs.view(-1,outputs.shape[-1])\n",
    "        b_labels_shaped = b_labels.view(-1)\n",
    "        loss = loss_fn(outputs,b_labels_shaped)\n",
    "        correct_predictions += torch.sum(preds == b_labels)\n",
    "        losses.append(loss.item())\n",
    "        \n",
    "        loss.backward()\n",
    "        torch.nn.utils.clip_grad_norm_(parameters=model.parameters(), max_norm=max_grad_norm)\n",
    "        optimizer.step()\n",
    "        scheduler.step()\n",
    "        optimizer.zero_grad()\n",
    "        \n",
    "    return correct_predictions.double()/len(data_loader) , np.mean(losses)"
   ]
  },
  {
   "cell_type": "code",
   "execution_count": 43,
   "id": "f791ba54",
   "metadata": {},
   "outputs": [],
   "source": [
    "def model_eval(model,data_loader,loss_fn,device):\n",
    "    model = model.eval()\n",
    "    \n",
    "    losses = []\n",
    "    correct_predictions = 0\n",
    "    \n",
    "    with torch.no_grad():\n",
    "        for step, batch in enumerate(data_loader):\n",
    "            batch = tuple(t.to(device) for t in batch)\n",
    "            b_input_ids, b_input_mask, b_labels = batch\n",
    "        \n",
    "            outputs,y_hat = model(b_input_ids,b_input_mask)\n",
    "        \n",
    "            _,preds = torch.max(outputs,dim=2)\n",
    "            outputs = outputs.view(-1,outputs.shape[-1])\n",
    "            b_labels_shaped = b_labels.view(-1)\n",
    "            loss = loss_fn(outputs,b_labels_shaped)\n",
    "            correct_predictions += torch.sum(preds == b_labels)\n",
    "            losses.append(loss.item())\n",
    "        \n",
    "    \n",
    "    return correct_predictions.double()/len(data_loader) , np.mean(losses)"
   ]
  },
  {
   "cell_type": "code",
   "execution_count": 44,
   "id": "bc169780",
   "metadata": {},
   "outputs": [
    {
     "name": "stdout",
     "output_type": "stream",
     "text": [
      "======== Epoch 1/10 ========\n",
      "Train Loss: 0.255314233009811 Train Accuracy: 0.935341918294849\n",
      "Val Loss: 0.11792599498516038 Val Accuracy: 0.9508597883597885\n",
      "======== Epoch 2/10 ========\n",
      "Train Loss: 0.09571315327305248 Train Accuracy: 0.9641918294849023\n",
      "Val Loss: 0.09132596365516148 Val Accuracy: 0.9551785714285713\n",
      "======== Epoch 3/10 ========\n",
      "Train Loss: 0.0682097120710101 Train Accuracy: 0.9716133806986382\n",
      "Val Loss: 0.08768900276886092 Val Accuracy: 0.9579100529100529\n",
      "======== Epoch 4/10 ========\n",
      "Train Loss: 0.055806555846444665 Train Accuracy: 0.9747624333925401\n",
      "Val Loss: 0.08171993322552197 Val Accuracy: 0.9616402116402117\n",
      "======== Epoch 5/10 ========\n",
      "Train Loss: 0.048347430343393956 Train Accuracy: 0.9766629662522203\n",
      "Val Loss: 0.08198298602586701 Val Accuracy: 0.9619576719576719\n",
      "======== Epoch 6/10 ========\n",
      "Train Loss: 0.0441151427181163 Train Accuracy: 0.9780150976909414\n",
      "Val Loss: 0.08232092804142407 Val Accuracy: 0.9612301587301587\n",
      "======== Epoch 7/10 ========\n",
      "Train Loss: 0.041238344249648055 Train Accuracy: 0.9789017169923032\n",
      "Val Loss: 0.08342961694986101 Val Accuracy: 0.9628835978835979\n",
      "======== Epoch 8/10 ========\n",
      "Train Loss: 0.03953943286276361 Train Accuracy: 0.9792044108940203\n",
      "Val Loss: 0.08626053029937404 Val Accuracy: 0.9620965608465609\n",
      "======== Epoch 9/10 ========\n",
      "Train Loss: 0.03806182999349138 Train Accuracy: 0.9795988750740084\n",
      "Val Loss: 0.08907773029354829 Val Accuracy: 0.9619973544973545\n",
      "======== Epoch 10/10 ========\n",
      "Train Loss: 0.037097875052007644 Train Accuracy: 0.9800592066311429\n",
      "Val Loss: 0.09039355645931903 Val Accuracy: 0.962202380952381\n",
      "CPU times: user 12min 33s, sys: 3min 43s, total: 16min 17s\n",
      "Wall time: 16min 16s\n"
     ]
    }
   ],
   "source": [
    "%%time\n",
    "history = defaultdict(list)\n",
    "best_accuracy = 0\n",
    "normalizer = BATCH_SIZE*MAX_LEN\n",
    "loss_values = []\n",
    "\n",
    "for epoch in range(epochs):\n",
    "    \n",
    "    total_loss = 0\n",
    "    print(f'======== Epoch {epoch+1}/{epochs} ========')\n",
    "    train_acc,train_loss = train_epoch(model,train_dataloader,loss_fn,optimizer,device,scheduler)\n",
    "    train_acc = train_acc/normalizer\n",
    "    print(f'Train Loss: {train_loss} Train Accuracy: {train_acc}')\n",
    "    total_loss += train_loss.item()\n",
    "    \n",
    "    avg_train_loss = total_loss / len(train_dataloader)  \n",
    "    loss_values.append(avg_train_loss)\n",
    "    \n",
    "    val_acc,val_loss = model_eval(model,valid_dataloader,loss_fn,device)\n",
    "    val_acc = val_acc/normalizer\n",
    "    print(f'Val Loss: {val_loss} Val Accuracy: {val_acc}')\n",
    "    \n",
    "    history['train_loss'].append(train_loss)\n",
    "    history['train_acc'].append(train_acc)\n",
    "    \n",
    "    history['val_loss'].append(val_loss)\n",
    "    history['val_acc'].append(val_acc)"
   ]
  },
  {
   "cell_type": "code",
   "execution_count": 45,
   "id": "0cfd0dc2",
   "metadata": {},
   "outputs": [
    {
     "data": {
      "image/png": "[encoded data removed]",
      "text/plain": [
       "<Figure size 1200x600 with 1 Axes>"
      ]
     },
     "metadata": {},
     "output_type": "display_data"
    }
   ],
   "source": [
    "sns.set(style='darkgrid')\n",
    "\n",
    "sns.set(font_scale=1.5)\n",
    "plt.rcParams[\"figure.figsize\"] = (12,6)\n",
    "\n",
    "# learning curve\n",
    "plt.plot(loss_values, 'b-o')\n",
    "\n",
    "plt.title(\"Training loss\")\n",
    "plt.xlabel(\"Epoch\")\n",
    "plt.ylabel(\"Loss\")\n",
    "\n",
    "plt.show()"
   ]
  },
  {
   "cell_type": "markdown",
   "id": "48aa512a",
   "metadata": {},
   "source": [
    "Test"
   ]
  },
  {
   "cell_type": "code",
   "execution_count": 46,
   "id": "a66e154a",
   "metadata": {},
   "outputs": [],
   "source": [
    "text = \"\"\"In addition to their essential catalytic role in protein biosynthesis, aminoacyl-tRNA synthetases participate in numerous other functions, including regulation of gene expression and amino acid biosynthesis via transamidation pathways. Herein, we describe a class of aminoacyl-tRNA synthetase-like (HisZ) proteins based on the catalytic core of the contemporary class II histidyl-tRNA synthetase whose members lack aminoacylation activity but are instead essential components of the first enzyme in histidine biosynthesis ATP phosphoribosyltransferase (HisG). Prediction of the function of HisZ in Lactococcus lactis was assisted by comparative genomics, a technique that revealed a link between the presence or the absence of HisZ and a systematic variation in the length of the HisG polypeptide. HisZ is required for histidine prototrophy, and three other lines of evidence support the direct involvement of HisZ in the transferase function. (i) Genetic experiments demonstrate that complementation of an in-frame deletion of HisG from Escherichia coli (which does not possess HisZ) requires both HisG and HisZ from L. lactis. (ii) Coelution of HisG and HisZ during affinity chromatography provides evidence of direct physical interaction. (iii) Both HisG and HisZ are required for catalysis of the ATP phosphoribosyltransferase reaction. This observation of a common protein domain linking amino acid biosynthesis and protein synthesis implies an early connection between the biosynthesis of amino acids and proteins.\"\"\"\n"
   ]
  },
  {
   "cell_type": "code",
   "execution_count": 48,
   "id": "7f575778",
   "metadata": {},
   "outputs": [
    {
     "data": {
      "text/plain": [
       "'In addition to their essential catalytic role in protein biosynthesis, aminoacyl-tRNA synthetases participate in numerous other functions, including regulation of gene expression and amino acid biosynthesis via transamidation pathways. Herein, we describe a class of aminoacyl-tRNA synthetase-like (HisZ) proteins based on the catalytic core of the contemporary class II histidyl-tRNA synthetase whose members lack aminoacylation activity but are instead essential components of the first enzyme in histidine biosynthesis ATP phosphoribosyltransferase (HisG). Prediction of the function of HisZ in Lactococcus lactis was assisted by comparative genomics, a technique that revealed a link between the presence or the absence of HisZ and a systematic variation in the length of the HisG polypeptide. HisZ is required for histidine prototrophy, and three other lines of evidence support the direct involvement of HisZ in the transferase function. (i) Genetic experiments demonstrate that complementation of an in-frame deletion of HisG from Escherichia coli (which does not possess HisZ) requires both HisG and HisZ from L. lactis. (ii) Coelution of HisG and HisZ during affinity chromatography provides evidence of direct physical interaction. (iii) Both HisG and HisZ are required for catalysis of the ATP phosphoribosyltransferase reaction. This observation of a common protein domain linking amino acid biosynthesis and protein synthesis implies an early connection between the biosynthesis of amino acids and proteins.'"
      ]
     },
     "execution_count": 48,
     "metadata": {},
     "output_type": "execute_result"
    }
   ],
   "source": [
    "text"
   ]
  },
  {
   "cell_type": "code",
   "execution_count": 49,
   "id": "86bf4fe0",
   "metadata": {},
   "outputs": [
    {
     "name": "stderr",
     "output_type": "stream",
     "text": [
      "[nltk_data] Downloading package punkt to\n",
      "[nltk_data]     /home/server_admin/nltk_data...\n",
      "[nltk_data]   Unzipping tokenizers/punkt.zip.\n"
     ]
    },
    {
     "data": {
      "text/plain": [
       "True"
      ]
     },
     "execution_count": 49,
     "metadata": {},
     "output_type": "execute_result"
    }
   ],
   "source": [
    "nltk.download('punkt')"
   ]
  },
  {
   "cell_type": "code",
   "execution_count": 50,
   "id": "93423d80",
   "metadata": {},
   "outputs": [],
   "source": [
    "sent_text = nltk.sent_tokenize(text)"
   ]
  },
  {
   "cell_type": "code",
   "execution_count": 52,
   "id": "8fda7826",
   "metadata": {},
   "outputs": [],
   "source": [
    "tokenized_text = []\n",
    "for sentence in sent_text:\n",
    "    tokenized_text.append(nltk.word_tokenize(sentence))"
   ]
  },
  {
   "cell_type": "code",
   "execution_count": 53,
   "id": "bbca9cd5",
   "metadata": {},
   "outputs": [],
   "source": [
    "def tokenize_and_preserve(sentence):\n",
    "    tokenized_sentence = []\n",
    "    \n",
    "    for word in sentence:\n",
    "        tokenized_word = tokenizer.tokenize(word)   \n",
    "        tokenized_sentence.extend(tokenized_word)\n",
    "\n",
    "    return tokenized_sentence"
   ]
  },
  {
   "cell_type": "code",
   "execution_count": 54,
   "id": "639dce4b",
   "metadata": {},
   "outputs": [],
   "source": [
    "tok_texts = [\n",
    "    tokenize_and_preserve(sent) for sent in tokenized_text\n",
    "]"
   ]
  },
  {
   "cell_type": "code",
   "execution_count": 55,
   "id": "dae0e82c",
   "metadata": {},
   "outputs": [],
   "source": [
    "input_ids = [tokenizer.convert_tokens_to_ids(txt) for txt in tok_texts]\n",
    "input_attentions = [[1]*len(in_id) for in_id in input_ids]"
   ]
  },
  {
   "cell_type": "code",
   "execution_count": 56,
   "id": "0793b49d",
   "metadata": {},
   "outputs": [],
   "source": [
    "tokens = tokenizer.convert_ids_to_tokens(input_ids[1])\n",
    "new_tokens, new_labels = [], []\n",
    "for token in tokens:\n",
    "    if token.startswith(\"##\"):\n",
    "        new_tokens[-1] = new_tokens[-1] + token[2:]\n",
    "    else:\n",
    "        \n",
    "        new_tokens.append(token)"
   ]
  },
  {
   "cell_type": "code",
   "execution_count": 57,
   "id": "70b6b463",
   "metadata": {},
   "outputs": [],
   "source": [
    "actual_sentences = []\n",
    "pred_labels = []\n",
    "for x,y in zip(input_ids,input_attentions):\n",
    "    x = torch.tensor(x).cuda()\n",
    "    y = torch.tensor(y).cuda()\n",
    "    x = x.view(-1,x.size()[-1])\n",
    "    y = y.view(-1,y.size()[-1])\n",
    "    with torch.no_grad():\n",
    "        _,y_hat = model(x,y)\n",
    "    label_indices = y_hat.to('cpu').numpy()\n",
    "    \n",
    "    tokens = tokenizer.convert_ids_to_tokens(x.to('cpu').numpy()[0])\n",
    "    new_tokens, new_labels = [], []\n",
    "    for token, label_idx in zip(tokens, label_indices[0]):\n",
    "        if token.startswith(\"##\"):\n",
    "            new_tokens[-1] = new_tokens[-1] + token[2:]\n",
    "        else:\n",
    "            new_labels.append(tag_values[label_idx])\n",
    "            new_tokens.append(token)\n",
    "    actual_sentences.append(new_tokens)\n",
    "    pred_labels.append(new_labels)"
   ]
  },
  {
   "cell_type": "code",
   "execution_count": 58,
   "id": "be60c5d1",
   "metadata": {},
   "outputs": [
    {
     "name": "stdout",
     "output_type": "stream",
     "text": [
      "In\tO\n",
      "addition\tO\n",
      "to\tO\n",
      "their\tO\n",
      "essential\tO\n",
      "catalytic\tO\n",
      "role\tO\n",
      "in\tO\n",
      "protein\tO\n",
      "biosynthesis\tO\n",
      ",\tO\n",
      "aminoacyl\tO\n",
      "-\tO\n",
      "tRNA\tO\n",
      "synthetases\tO\n",
      "participate\tO\n",
      "in\tO\n",
      "numerous\tO\n",
      "other\tO\n",
      "functions\tO\n",
      ",\tO\n",
      "including\tO\n",
      "regulation\tO\n",
      "of\tO\n",
      "gene\tO\n",
      "expression\tO\n",
      "and\tO\n",
      "amino\tO\n",
      "acid\tO\n",
      "biosynthesis\tO\n",
      "via\tO\n",
      "transamidation\tO\n",
      "pathways\tO\n",
      ".\tO\n",
      "Herein\tO\n",
      ",\tO\n",
      "we\tO\n",
      "describe\tO\n",
      "a\tO\n",
      "class\tO\n",
      "of\tO\n",
      "aminoacyl\tO\n",
      "-\tO\n",
      "tRNA\tO\n",
      "synthetase\tO\n",
      "-\tO\n",
      "like\tO\n",
      "(\tO\n",
      "HisZ\tO\n",
      ")\tO\n",
      "proteins\tO\n",
      "based\tO\n",
      "on\tO\n",
      "the\tO\n",
      "catalytic\tO\n",
      "core\tO\n",
      "of\tO\n",
      "the\tO\n",
      "contemporary\tO\n",
      "class\tO\n",
      "II\tO\n",
      "histidyl\tO\n",
      "-\tO\n",
      "tRNA\tO\n",
      "synthetase\tO\n",
      "whose\tO\n",
      "members\tO\n",
      "lack\tO\n",
      "aminoacylation\tO\n",
      "activity\tO\n",
      "but\tO\n",
      "are\tO\n",
      "instead\tO\n",
      "essential\tO\n",
      "components\tO\n",
      "of\tO\n",
      "the\tO\n",
      "first\tO\n",
      "enzyme\tO\n",
      "in\tO\n",
      "histidine\tO\n",
      "biosynthesis\tO\n",
      "ATP\tO\n",
      "phosphoribosyltransferase\tO\n",
      "(\tO\n",
      "HisG\tO\n",
      ")\tO\n",
      ".\tO\n",
      "Prediction\tO\n",
      "of\tO\n",
      "the\tO\n",
      "function\tO\n",
      "of\tO\n",
      "HisZ\tO\n",
      "in\tO\n",
      "Lactococcus\tB-Organism\n",
      "lactis\tI-Organism\n",
      "was\tO\n",
      "assisted\tO\n",
      "by\tO\n",
      "comparative\tO\n",
      "genomics\tO\n",
      ",\tO\n",
      "a\tO\n",
      "technique\tO\n",
      "that\tO\n",
      "revealed\tO\n",
      "a\tO\n",
      "link\tO\n",
      "between\tO\n",
      "the\tO\n",
      "presence\tO\n",
      "or\tO\n",
      "the\tO\n",
      "absence\tO\n",
      "of\tO\n",
      "HisZ\tO\n",
      "and\tO\n",
      "a\tO\n",
      "systematic\tO\n",
      "variation\tO\n",
      "in\tO\n",
      "the\tO\n",
      "length\tO\n",
      "of\tO\n",
      "the\tO\n",
      "HisG\tO\n",
      "polypeptide\tO\n",
      ".\tO\n",
      "HisZ\tO\n",
      "is\tO\n",
      "required\tO\n",
      "for\tO\n",
      "histidine\tO\n",
      "prototrophy\tO\n",
      ",\tO\n",
      "and\tO\n",
      "three\tO\n",
      "other\tO\n",
      "lines\tO\n",
      "of\tO\n",
      "evidence\tO\n",
      "support\tO\n",
      "the\tO\n",
      "direct\tO\n",
      "involvement\tO\n",
      "of\tO\n",
      "HisZ\tO\n",
      "in\tO\n",
      "the\tO\n",
      "transferase\tO\n",
      "function\tO\n",
      ".\tO\n",
      "(\tO\n",
      "i\tO\n",
      ")\tO\n",
      "Genetic\tO\n",
      "experiments\tO\n",
      "demonstrate\tO\n",
      "that\tO\n",
      "complementation\tO\n",
      "of\tO\n",
      "an\tO\n",
      "in\tO\n",
      "-\tO\n",
      "frame\tO\n",
      "deletion\tO\n",
      "of\tO\n",
      "HisG\tO\n",
      "from\tO\n",
      "Escherichia\tB-Organism\n",
      "coli\tI-Organism\n",
      "(\tO\n",
      "which\tO\n",
      "does\tO\n",
      "not\tO\n",
      "possess\tO\n",
      "HisZ\tO\n",
      ")\tO\n",
      "requires\tO\n",
      "both\tO\n",
      "HisG\tO\n",
      "and\tO\n",
      "HisZ\tO\n",
      "from\tO\n",
      "L\tB-Organism\n",
      ".\tI-Organism\n",
      "lactis\tI-Organism\n",
      ".\tO\n",
      "(\tO\n",
      "ii\tO\n",
      ")\tO\n",
      "Coelution\tO\n",
      "of\tO\n",
      "HisG\tO\n",
      "and\tO\n",
      "HisZ\tO\n",
      "during\tO\n",
      "affinity\tO\n",
      "chromatography\tO\n",
      "provides\tO\n",
      "evidence\tO\n",
      "of\tO\n",
      "direct\tO\n",
      "physical\tO\n",
      "interaction\tO\n",
      ".\tO\n",
      "(\tO\n",
      "iii\tO\n",
      ")\tO\n",
      "Both\tO\n",
      "HisG\tO\n",
      "and\tO\n",
      "HisZ\tO\n",
      "are\tO\n",
      "required\tO\n",
      "for\tO\n",
      "catalysis\tO\n",
      "of\tO\n",
      "the\tO\n",
      "ATP\tO\n",
      "phosphoribosyltransferase\tO\n",
      "reaction\tO\n",
      ".\tO\n",
      "This\tO\n",
      "observation\tO\n",
      "of\tO\n",
      "a\tO\n",
      "common\tO\n",
      "protein\tO\n",
      "domain\tO\n",
      "linking\tO\n",
      "amino\tO\n",
      "acid\tO\n",
      "biosynthesis\tO\n",
      "and\tO\n",
      "protein\tO\n",
      "synthesis\tO\n",
      "implies\tO\n",
      "an\tO\n",
      "early\tO\n",
      "connection\tO\n",
      "between\tO\n",
      "the\tO\n",
      "biosynthesis\tO\n",
      "of\tO\n",
      "amino\tO\n",
      "acids\tO\n",
      "and\tO\n",
      "proteins\tO\n",
      ".\tO\n"
     ]
    }
   ],
   "source": [
    "for token, label in zip(actual_sentences, pred_labels):\n",
    "    for t,l in zip(token,label):\n",
    "        print(\"{}\\t{}\".format(t, l))"
   ]
  },
  {
   "cell_type": "code",
   "execution_count": 60,
   "id": "a5628f65",
   "metadata": {},
   "outputs": [],
   "source": [
    "model_save = 'BIONER_classifier.pt'\n",
    "path = F\"models/{model_save}\" \n",
    "torch.save(model.state_dict(), path)"
   ]
  },
  {
   "cell_type": "code",
   "execution_count": null,
   "id": "3a70fb36",
   "metadata": {},
   "outputs": [],
   "source": []
  }
 ],
 "metadata": {
  "kernelspec": {
   "display_name": "Python 3 (ipykernel)",
   "language": "python",
   "name": "python3"
  },
  "language_info": {
   "codemirror_mode": {
    "name": "ipython",
    "version": 3
   },
   "file_extension": ".py",
   "mimetype": "text/x-python",
   "name": "python",
   "nbconvert_exporter": "python",
   "pygments_lexer": "ipython3",
   "version": "3.9.13"
  }
 },
 "nbformat": 4,
 "nbformat_minor": 5
}
